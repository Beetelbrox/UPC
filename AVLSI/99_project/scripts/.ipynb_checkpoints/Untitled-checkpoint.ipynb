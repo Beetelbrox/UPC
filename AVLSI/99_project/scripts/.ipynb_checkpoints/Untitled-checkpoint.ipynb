{
 "cells": [
  {
   "cell_type": "code",
   "execution_count": 1,
   "metadata": {},
   "outputs": [],
   "source": [
    "import matplotlib.pyplot as plt\n",
    "import matplotlib.patches as patches"
   ]
  },
  {
   "cell_type": "code",
   "execution_count": 20,
   "metadata": {},
   "outputs": [
    {
     "name": "stdout",
     "output_type": "stream",
     "text": [
      "[[2, 3], [2, 0], [3, 0], [0, 2], [0, 0], [4, 0]]\n",
      "[[2, 2], [1, 2], [1, 3], [1, 1], [2, 2], [2, 3]]\n"
     ]
    }
   ],
   "source": [
    "f = open (\"../test_output.out\")\n",
    "positions = []\n",
    "sizes = []\n",
    "for _ in range(6):\n",
    "    tokens = [int(x) for x in f.readline().rstrip().split()]\n",
    "    positions.append(tokens[:2])\n",
    "    sizes.append(tokens[2:])\n",
    "f.readline()\n",
    "\n",
    "print(positions)\n",
    "print(sizes)"
   ]
  },
  {
   "cell_type": "code",
   "execution_count": 19,
   "metadata": {},
   "outputs": [
    {
     "name": "stdout",
     "output_type": "stream",
     "text": [
      "(2, 5) [[2, 3], [2, 0], [3, 0], [0, 2], [0, 0], [4, 0]]\n",
      "(2, 8) [[2, 3], [2, 0], [3, 0], [0, 2], [0, 0], [4, 0]]\n",
      "(3, 7) [[2, 3], [2, 0], [3, 0], [0, 2], [0, 0], [4, 0]]\n",
      "(0, 7) [[2, 3], [2, 0], [3, 0], [0, 2], [0, 0], [4, 0]]\n",
      "(0, 8) [[2, 3], [2, 0], [3, 0], [0, 2], [0, 0], [4, 0]]\n",
      "(4, 7) [[2, 3], [2, 0], [3, 0], [0, 2], [0, 0], [4, 0]]\n"
     ]
    },
    {
     "data": {
      "text/plain": [
       "(0, 10)"
      ]
     },
     "execution_count": 19,
     "metadata": {},
     "output_type": "execute_result"
    },
    {
     "data": {
      "image/png": "[encoded data removed]",
      "text/plain": [
       "<Figure size 432x288 with 1 Axes>"
      ]
     },
     "metadata": {
      "needs_background": "light"
     },
     "output_type": "display_data"
    }
   ],
   "source": [
    "fig1 = plt.figure()\n",
    "ax1 = fig1.add_subplot(111, aspect='equal')\n",
    "for i in range(len(positions)):\n",
    "    print((positions[i][0], 10-positions[i][1]-sizes[i][1]), positions)\n",
    "    ax1.add_patch(patches.Rectangle((positions[i][0], 10-positions[i][1]-sizes[i][1]), sizes[i][0], sizes[i][1], fill=False))\n",
    "  \n",
    "plt.ylim((0,10))\n",
    "plt.xlim((0,10))"
   ]
  },
  {
   "cell_type": "code",
   "execution_count": 21,
   "metadata": {},
   "outputs": [
    {
     "name": "stdout",
     "output_type": "stream",
     "text": [
      "[[2, 2], [2, 0], [3, 0], [0, 2], [0, 0], [6, 0]]\n",
      "[[2, 2], [1, 2], [3, 1], [1, 1], [2, 2], [2, 3]]\n"
     ]
    }
   ],
   "source": [
    "positions = []\n",
    "sizes = []\n",
    "for _ in range(6):\n",
    "    tokens = [int(x) for x in f.readline().rstrip().split()]\n",
    "    positions.append(tokens[:2])\n",
    "    sizes.append(tokens[2:])\n",
    "f.readline()\n",
    "\n",
    "print(positions)\n",
    "print(sizes)"
   ]
  },
  {
   "cell_type": "code",
   "execution_count": 22,
   "metadata": {},
   "outputs": [
    {
     "name": "stdout",
     "output_type": "stream",
     "text": [
      "(2, 6) [[2, 2], [2, 0], [3, 0], [0, 2], [0, 0], [6, 0]]\n",
      "(2, 8) [[2, 2], [2, 0], [3, 0], [0, 2], [0, 0], [6, 0]]\n",
      "(3, 9) [[2, 2], [2, 0], [3, 0], [0, 2], [0, 0], [6, 0]]\n",
      "(0, 7) [[2, 2], [2, 0], [3, 0], [0, 2], [0, 0], [6, 0]]\n",
      "(0, 8) [[2, 2], [2, 0], [3, 0], [0, 2], [0, 0], [6, 0]]\n",
      "(6, 7) [[2, 2], [2, 0], [3, 0], [0, 2], [0, 0], [6, 0]]\n"
     ]
    },
    {
     "data": {
      "text/plain": [
       "(0, 10)"
      ]
     },
     "execution_count": 22,
     "metadata": {},
     "output_type": "execute_result"
    },
    {
     "data": {
      "image/png": "[encoded data removed]",
      "text/plain": [
       "<Figure size 432x288 with 1 Axes>"
      ]
     },
     "metadata": {
      "needs_background": "light"
     },
     "output_type": "display_data"
    }
   ],
   "source": [
    "fig1 = plt.figure()\n",
    "ax1 = fig1.add_subplot(111, aspect='equal')\n",
    "for i in range(len(positions)):\n",
    "    print((positions[i][0], 10-positions[i][1]-sizes[i][1]), positions)\n",
    "    ax1.add_patch(patches.Rectangle((positions[i][0], 10-positions[i][1]-sizes[i][1]), sizes[i][0], sizes[i][1], fill=False))\n",
    "  \n",
    "plt.ylim((0,10))\n",
    "plt.xlim((0,10))"
   ]
  },
  {
   "cell_type": "code",
   "execution_count": 23,
   "metadata": {},
   "outputs": [
    {
     "name": "stdout",
     "output_type": "stream",
     "text": [
      "[[2, 1], [2, 0], [4, 0], [0, 2], [0, 0], [7, 0]]\n",
      "[[2, 2], [2, 1], [3, 1], [1, 1], [2, 2], [2, 3]]\n"
     ]
    }
   ],
   "source": [
    "positions = []\n",
    "sizes = []\n",
    "for _ in range(6):\n",
    "    tokens = [int(x) for x in f.readline().rstrip().split()]\n",
    "    positions.append(tokens[:2])\n",
    "    sizes.append(tokens[2:])\n",
    "f.readline()\n",
    "\n",
    "print(positions)\n",
    "print(sizes)"
   ]
  },
  {
   "cell_type": "code",
   "execution_count": 24,
   "metadata": {},
   "outputs": [
    {
     "name": "stdout",
     "output_type": "stream",
     "text": [
      "(2, 7) [[2, 1], [2, 0], [4, 0], [0, 2], [0, 0], [7, 0]]\n",
      "(2, 9) [[2, 1], [2, 0], [4, 0], [0, 2], [0, 0], [7, 0]]\n",
      "(4, 9) [[2, 1], [2, 0], [4, 0], [0, 2], [0, 0], [7, 0]]\n",
      "(0, 7) [[2, 1], [2, 0], [4, 0], [0, 2], [0, 0], [7, 0]]\n",
      "(0, 8) [[2, 1], [2, 0], [4, 0], [0, 2], [0, 0], [7, 0]]\n",
      "(7, 7) [[2, 1], [2, 0], [4, 0], [0, 2], [0, 0], [7, 0]]\n"
     ]
    },
    {
     "data": {
      "text/plain": [
       "(0, 10)"
      ]
     },
     "execution_count": 24,
     "metadata": {},
     "output_type": "execute_result"
    },
    {
     "data": {
      "image/png": "[encoded data removed]",
      "text/plain": [
       "<Figure size 432x288 with 1 Axes>"
      ]
     },
     "metadata": {
      "needs_background": "light"
     },
     "output_type": "display_data"
    }
   ],
   "source": [
    "fig1 = plt.figure()\n",
    "ax1 = fig1.add_subplot(111, aspect='equal')\n",
    "for i in range(len(positions)):\n",
    "    print((positions[i][0], 10-positions[i][1]-sizes[i][1]), positions)\n",
    "    ax1.add_patch(patches.Rectangle((positions[i][0], 10-positions[i][1]-sizes[i][1]), sizes[i][0], sizes[i][1], fill=False))\n",
    "  \n",
    "plt.ylim((0,10))\n",
    "plt.xlim((0,10))"
   ]
  },
  {
   "cell_type": "code",
   "execution_count": null,
   "metadata": {},
   "outputs": [],
   "source": []
  }
 ],
 "metadata": {
  "kernelspec": {
   "display_name": "Python 3",
   "language": "python",
   "name": "python3"
  },
  "language_info": {
   "codemirror_mode": {
    "name": "ipython",
    "version": 3
   },
   "file_extension": ".py",
   "mimetype": "text/x-python",
   "name": "python",
   "nbconvert_exporter": "python",
   "pygments_lexer": "ipython3",
   "version": "3.7.4"
  }
 },
 "nbformat": 4,
 "nbformat_minor": 2
}
